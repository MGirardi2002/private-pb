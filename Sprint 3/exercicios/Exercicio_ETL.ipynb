{
 "cells": [
  {
   "cell_type": "markdown",
   "id": "3e1db7c3-b487-4564-9995-d30387bde841",
   "metadata": {},
   "source": [
    "# Exercicio ETL com Python"
   ]
  },
  {
   "cell_type": "code",
   "execution_count": 17,
   "id": "f34825f2-699f-4437-892f-9331a7c29a2f",
   "metadata": {},
   "outputs": [],
   "source": [
    "file_path = \"C:/Users/mggir/OneDrive/Área de Trabalho/exercicios/exercicio_II/actors.csv\""
   ]
  },
  {
   "cell_type": "code",
   "execution_count": 25,
   "id": "ab2f1e56-8980-4982-9cbe-047ff22116ac",
   "metadata": {},
   "outputs": [],
   "source": [
    "def etapa_1(file_path):\n",
    "    with open(file_path, 'r') as file:\n",
    "        headers = file.readline().strip().split(',')\n",
    "        idx_actor = headers.index(\"Actor\")\n",
    "        idx_number_of_movies = headers.index(\"Number of Movies\")\n",
    "\n",
    "        max_movies = 0\n",
    "        actor_with_max_movies = \"\"\n",
    "\n",
    "        for line in file:\n",
    "            data = line.strip().split(',')\n",
    "            actor = data[idx_actor]\n",
    "            try:\n",
    "                number_of_movies = int(float(data[idx_number_of_movies].strip()))\n",
    "                if number_of_movies > max_movies:\n",
    "                    max_movies = number_of_movies\n",
    "                    actor_with_max_movies = actor\n",
    "            except ValueError:\n",
    "                continue\n",
    "\n",
    "    with open('etapa-1.txt', 'w') as output_file:\n",
    "        output_file.write(f\"{actor_with_max_movies} - {max_movies}\")\n",
    "\n",
    "etapa_1('actors.csv')"
   ]
  },
  {
   "cell_type": "code",
   "execution_count": 29,
   "id": "971b7e4d-7f1f-4e9b-ad65-c48c25820191",
   "metadata": {},
   "outputs": [],
   "source": [
    "def etapa_2(file_path):\n",
    "    with open(file_path, 'r') as file:\n",
    "        headers = file.readline().strip().split(',')\n",
    "        idx_gross = headers.index(\"Gross\")\n",
    "\n",
    "        total_gross = 0\n",
    "        count = 0\n",
    "\n",
    "        for line in file:\n",
    "            data = line.strip().split(',')\n",
    "            try:\n",
    "                gross = float(data[idx_gross].strip())\n",
    "                total_gross += gross\n",
    "                count += 1\n",
    "            except ValueError:\n",
    "                continue\n",
    "\n",
    "    average_gross = total_gross / count if count != 0 else 0\n",
    "\n",
    "    with open('etapa-2.txt', 'w') as output_file:\n",
    "        output_file.write(f\"Média da receita bruta: {average_gross:.2f}\")\n",
    "\n",
    "etapa_2('actors.csv')"
   ]
  },
  {
   "cell_type": "code",
   "execution_count": 33,
   "id": "88beef6f-77d6-4322-8fb4-472eb8f25dcd",
   "metadata": {},
   "outputs": [],
   "source": [
    "def etapa_3(file_path):\n",
    "    with open(file_path, 'r') as file:\n",
    "        headers = file.readline().strip().split(',')\n",
    "        idx_actor = headers.index(\"Actor\")\n",
    "        idx_average_per_movie = headers.index(\"Average per Movie\")\n",
    "\n",
    "        max_average = 0\n",
    "        actor_with_max_average = \"\"\n",
    "\n",
    "        for line in file:\n",
    "            data = line.strip().split(',')\n",
    "            try:\n",
    "                average_per_movie = float(data[idx_average_per_movie].strip())\n",
    "                actor = data[idx_actor].strip()\n",
    "                if average_per_movie > max_average:\n",
    "                    max_average = average_per_movie\n",
    "                    actor_with_max_average = actor\n",
    "            except ValueError:\n",
    "                continue \n",
    "\n",
    "    with open('etapa-3.txt', 'w') as output_file:\n",
    "        output_file.write(f\"{actor_with_max_average} - {max_average:.2f}\")\n",
    "\n",
    "etapa_3('actors.csv')"
   ]
  },
  {
   "cell_type": "code",
   "execution_count": 37,
   "id": "af11d90d-394c-4a92-923e-d275e21ec1c8",
   "metadata": {},
   "outputs": [],
   "source": [
    "from collections import Counter\n",
    "\n",
    "def etapa_4(file_path):\n",
    "    with open(file_path, 'r') as file:\n",
    "        headers = file.readline().strip().split(',')\n",
    "        idx_movie = headers.index(\"#1 Movie\")\n",
    "\n",
    "        movie_counter = Counter()\n",
    "\n",
    "        for line in file:\n",
    "            data = line.strip().split(',')\n",
    "            movie = data[idx_movie].strip()\n",
    "            movie_counter[movie] += 1\n",
    "\n",
    "    sorted_movies = movie_counter.most_common()\n",
    "\n",
    "    with open('etapa-4.txt', 'w') as output_file:\n",
    "        for i, (movie, count) in enumerate(sorted_movies, 1):\n",
    "            output_file.write(f\"{i} - O filme ({movie}) aparece {count} vez(es) no dataset\\n\")\n",
    "\n",
    "etapa_4('actors.csv')"
   ]
  },
  {
   "cell_type": "code",
   "execution_count": 39,
   "id": "8e0903c1-4d64-4510-b70b-dc4b830b53c2",
   "metadata": {},
   "outputs": [],
   "source": [
    "def etapa_final(file_path):\n",
    "    with open(file_path, 'r') as file:\n",
    "        headers = file.readline().strip().split(',')\n",
    "        idx_actor = headers.index(\"Actor\")\n",
    "        idx_total_gross = headers.index(\"Total Gross\")\n",
    "\n",
    "        actor_gross_list = []\n",
    "\n",
    "        for line in file:\n",
    "            data = line.strip().split(',')\n",
    "            try:\n",
    "                total_gross = float(data[idx_total_gross].strip())\n",
    "                actor = data[idx_actor].strip()\n",
    "                actor_gross_list.append((actor, total_gross))\n",
    "            except ValueError:\n",
    "                continue  \n",
    "\n",
    "    actor_gross_list.sort(key=lambda x: x[1], reverse=True)\n",
    "\n",
    "    with open('etapa-5.txt', 'w') as output_file:\n",
    "        for actor, gross in actor_gross_list:\n",
    "            output_file.write(f\"{actor} - {gross:.2f}\\n\")\n",
    "\n",
    "etapa_final('actors.csv')"
   ]
  }
 ],
 "metadata": {
  "kernelspec": {
   "display_name": "Python 3 (ipykernel)",
   "language": "python",
   "name": "python3"
  },
  "language_info": {
   "codemirror_mode": {
    "name": "ipython",
    "version": 3
   },
   "file_extension": ".py",
   "mimetype": "text/x-python",
   "name": "python",
   "nbconvert_exporter": "python",
   "pygments_lexer": "ipython3",
   "version": "3.12.4"
  }
 },
 "nbformat": 4,
 "nbformat_minor": 5
}
